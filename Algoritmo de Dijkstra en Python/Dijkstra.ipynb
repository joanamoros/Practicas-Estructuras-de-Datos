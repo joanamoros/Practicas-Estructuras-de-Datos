{
 "cells": [
  {
   "cell_type": "code",
   "execution_count": 5,
   "id": "b1e64cb3",
   "metadata": {},
   "outputs": [
    {
     "name": "stdout",
     "output_type": "stream",
     "text": [
      "El precio del vuelo de Alicante a Budapest es de 180 € (pasando por Burdeos y Barcelona)\n",
      "El precio del vuelo de Alicante a CDMX es de 597 € (pasando por Burdeos y Barcelona)\n",
      "El precio del vuelo de Alicante a Barcelona es de 112 € (pasando por Burdeos)\n",
      "El precio del vuelo de Alicante a París es de 158 € (pasando por Burdeos y Barcelona)\n"
     ]
    }
   ],
   "source": [
    "from queue import PriorityQueue\n",
    "\n",
    "class Graph:\n",
    "    def __init__(tabla, vertices):\n",
    "        tabla.j = vertices #j: número de vértices en el grafo\n",
    "        tabla.nuevo = [[-1 for filas in range(vertices)] for columnas in range(vertices)]\n",
    "        tabla.visitado = [] #contendrá los vértices visitados\n",
    "\n",
    "    def add_edge(tabla, i, j, precio): #función que añadirá un vértice al grafo\n",
    "        tabla.nuevo[i][j] = precio\n",
    "        tabla.nuevo[j][i] = precio\n",
    "       \n",
    "    def dijkstra(tabla, vertice_nuevo):\n",
    "        M = {j:float('inf') for j in range(tabla.j)} #Creamos una matriz cuadrada del tamaño de los vértices\n",
    "        M[vertice_nuevo] = 0 #La distancia de un vértice a sí mismo es 0\n",
    "   \n",
    "        pq = PriorityQueue()\n",
    "        pq.put((0, vertice_nuevo))\n",
    "   \n",
    "        while not pq.empty():\n",
    "            (cost, vertice_actual) = pq.get()\n",
    "            tabla.visitado.append(vertice_actual)\n",
    "   \n",
    "            for vecino in range(tabla.j): #1º) Calculamos los nodos accesibles desde el camino previo de menor coste.\n",
    "                if tabla.nuevo[vertice_actual][vecino] != -1:\n",
    "                    coste = tabla.nuevo[vertice_actual][vecino]\n",
    "                    if vecino not in tabla.visitado:\n",
    "                        coste_antiguo = M[vecino]\n",
    "                        coste_nuevo = M[vertice_actual] + coste\n",
    "                        if coste_nuevo < coste_antiguo: #2º) Seleccionamos el nodo de menor coste que no haya sido recorrido.\n",
    "                            pq.put((coste_nuevo, vecino)) \n",
    "                            M[vecino] = coste_nuevo\n",
    "        return M\n",
    "   \n",
    "   \n",
    "g = Graph(8) #La matriz es de 8x8 porque hay 8 ciudades en total\n",
    "\n",
    "#Ciudad 0: Alicante (será nuestro punto de partida)\n",
    "#Ciudad 1: Barcelona\n",
    "#Ciudad 2: París\n",
    "#Ciudad 3: Atenas\n",
    "#Ciudad 4: Burdeos\n",
    "#Ciudad 5: Cork\n",
    "#Ciudad 6: Budapest\n",
    "#Ciudad 7: Ciudad de México (CDMX)\n",
    "\n",
    "g.add_edge(0, 4, 78) \n",
    "g.add_edge(0, 5, 142)\n",
    "g.add_edge(1, 2, 46)\n",
    "g.add_edge(1, 4, 34)\n",
    "g.add_edge(1, 6, 68)\n",
    "g.add_edge(1, 7, 485)\n",
    "g.add_edge(2, 1, 46)\n",
    "g.add_edge(2, 3, 76)\n",
    "g.add_edge(2, 5, 112)\n",
    "g.add_edge(3, 2, 76)\n",
    "g.add_edge(3, 4, 146)\n",
    "g.add_edge(3, 6, 38)\n",
    "g.add_edge(4, 0, 78)\n",
    "g.add_edge(4, 1, 34)\n",
    "g.add_edge(4, 3, 146)\n",
    "g.add_edge(5, 0, 142)\n",
    "g.add_edge(6, 1, 68)\n",
    "g.add_edge(6, 3, 38)\n",
    "g.add_edge(7, 1, 485)\n",
    "\n",
    "D = g.dijkstra(0)\n",
    "\n",
    "\n",
    "print(\"El precio del vuelo de Alicante a Budapest es de\", D[6], \"€ (pasando por Burdeos y Barcelona)\")\n",
    "print(\"El precio del vuelo de Alicante a CDMX es de\", D[7], \"€ (pasando por Burdeos y Barcelona)\")\n",
    "print(\"El precio del vuelo de Alicante a Barcelona es de\", D[1], \"€ (pasando por Burdeos)\")\n",
    "print(\"El precio del vuelo de Alicante a París es de\", D[2], \"€ (pasando por Burdeos y Barcelona)\")\n",
    "\n",
    "   \n"
   ]
  },
  {
   "cell_type": "code",
   "execution_count": null,
   "id": "e861b5a6",
   "metadata": {},
   "outputs": [],
   "source": []
  }
 ],
 "metadata": {
  "kernelspec": {
   "display_name": "Python 3 (ipykernel)",
   "language": "python",
   "name": "python3"
  },
  "language_info": {
   "codemirror_mode": {
    "name": "ipython",
    "version": 3
   },
   "file_extension": ".py",
   "mimetype": "text/x-python",
   "name": "python",
   "nbconvert_exporter": "python",
   "pygments_lexer": "ipython3",
   "version": "3.9.12"
  }
 },
 "nbformat": 4,
 "nbformat_minor": 5
}
